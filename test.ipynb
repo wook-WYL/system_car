{
 "cells": [
  {
   "cell_type": "markdown",
   "metadata": {},
   "source": [
    "1. Path_plan code "
   ]
  },
  {
   "cell_type": "code",
   "execution_count": 10,
   "metadata": {},
   "outputs": [
    {
     "name": "stdout",
     "output_type": "stream",
     "text": [
      "[i] start:  183 874\n",
      "[i] goal:  263 325\n",
      "planning local path...: 100%|██████████████| 1000/1000 [00:02<00:00, 352.21it/s]\n",
      "\u001b[91m Local Planner could not find optimial path\u001b[00m\n"
     ]
    }
   ],
   "source": [
    "!python ./path_plan/path_plan.py \\\n",
    "        --start_num 400 --end_num 900 \\\n",
    "        --local_planner_type TRRTSTAR \\\n",
    "        --max_path_iter 1000 --max_extend_length 10 --bias_sampling \\\n",
    "        --cost_map_name /root/ai/outputs/map/400_900/400_900_rgb.png"
   ]
  },
  {
   "cell_type": "markdown",
   "metadata": {},
   "source": [
    "2. Rellis-3D Dataset's eval"
   ]
  },
  {
   "cell_type": "code",
   "execution_count": 23,
   "metadata": {},
   "outputs": [
    {
     "name": "stdout",
     "output_type": "stream",
     "text": [
      "*********************************************\n",
      "[i] start evaluation\n",
      "[i] data root:  /root/autodl-fs/dataset\n",
      "[i] pred path:  /root/ai/outputs/prediction\n",
      "  0%|                                                     | 0/1 [00:00<?, ?it/s]\n",
      "Traceback (most recent call last):\n",
      "  File \"eval_rellis.py\", line 54, in <module>\n",
      "    gt_ = bin_img_read(gt_file_path)\n",
      "  File \"/root/ai/FtFoot/common/utils_loader.py\", line 138, in bin_img_read\n",
      "    assert os.path.exists(filename), \"file not found: {}\".format(filename)\n",
      "AssertionError: file not found: /root/autodl-fs/dataset/Rellis-3D_id/annotations/RELLIS_3D-22-01-25-11:14:02-model_best-RELLIS_3D\n"
     ]
    }
   ],
   "source": [
    "!python eval_rellis.py --data_root /root/autodl-fs/dataset --pred_path /root/ai/outputs/prediction"
   ]
  },
  {
   "cell_type": "markdown",
   "metadata": {},
   "source": [
    "3. Plot_map code to generate cost map"
   ]
  },
  {
   "cell_type": "code",
   "execution_count": 5,
   "metadata": {},
   "outputs": [
    {
     "name": "stdout",
     "output_type": "stream",
     "text": [
      "100%|█████████████████████████████████████████| 500/500 [01:59<00:00,  4.18it/s]\n",
      "-16.510383 -123.4017\n",
      "[i] ../outputs/map/400_900/400_900_rgb.png\n",
      "[i] ../outputs/map/400_900/400_900_valid.png\n",
      "[i] ../outputs/map/400_900/400_900_RELLIS_3D-22-01-25-11:14:02-model_best-RELLIS_3D.png\n"
     ]
    }
   ],
   "source": [
    "!python ./plot_map/plot_map_rellis.py \\\n",
    "        --start_num 400 --end_num 900 \\\n",
    "        --save_rgb_img --save_valid_map \\\n",
    "        --cost_path /root/ai/outputs/prediction/RELLIS_3D-22-01-25-11:14:02-model_best-RELLIS_3D"
   ]
  },
  {
   "cell_type": "markdown",
   "metadata": {},
   "source": [
    "4. Test code for dataset"
   ]
  },
  {
   "cell_type": "code",
   "execution_count": 6,
   "metadata": {},
   "outputs": [
    {
     "name": "stdout",
     "output_type": "stream",
     "text": [
      "/root/miniconda3/envs/ftfoot/lib/python3.8/site-packages/encoding/lib/cpu\n",
      "/root/miniconda3/envs/ftfoot/lib/python3.8/site-packages/encoding/lib/gpu\n",
      "Initializing Baseline with norm_layer: <class 'encoding.nn.syncbn.SyncBatchNorm'>, type: <class 'type'>\n",
      "Guide type: <class 'model.utils_nn.DKPF'>, type: <class 'type'>\n",
      "[i] complete init_model: 1.404 M\n",
      "[i] load  /root/ai/ckpts/1/model_best.pth\n",
      "[i] epoch 4 , best_metric 0.6138644268710428\n",
      "100%|███████████████████████████████████████| 2555/2555 [14:27<00:00,  2.95it/s]\n",
      "[i] mean proc. time :  0.025243568327095643\n"
     ]
    }
   ],
   "source": [
    "!python test.py /root/ai/FtFoot/config/test_orfd.yaml"
   ]
  }
 ],
 "metadata": {
  "kernelspec": {
   "display_name": "ftfoot",
   "language": "python",
   "name": "python3"
  },
  "language_info": {
   "codemirror_mode": {
    "name": "ipython",
    "version": 3
   },
   "file_extension": ".py",
   "mimetype": "text/x-python",
   "name": "python",
   "nbconvert_exporter": "python",
   "pygments_lexer": "ipython3",
   "version": "3.8.20"
  }
 },
 "nbformat": 4,
 "nbformat_minor": 2
}
